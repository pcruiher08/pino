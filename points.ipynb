{
 "cells": [
  {
   "cell_type": "code",
   "execution_count": 4,
   "metadata": {},
   "outputs": [
    {
     "name": "stdout",
     "output_type": "stream",
     "text": [
      "Original 3D Coordinates: [1.00000000e+00 6.83580866e-17 1.00000000e+00]\n"
     ]
    }
   ],
   "source": [
    "def calculate_y_before_rotation(x_before, z_before, x_after, z_after):\n",
    "    return -x_after\n",
    "\n",
    "\n",
    "x_before = 1\n",
    "z_before = 1\n",
    "x_after = 1\n",
    "z_after = 1\n",
    "\n",
    "\n",
    "y_before_calculated = calculate_y_before_rotation(x_before, z_before, x_after, z_after)\n",
    "\n",
    "print(\"Calculated y_before:\", y_before_calculated)\n"
   ]
  }
 ],
 "metadata": {
  "kernelspec": {
   "display_name": "Python 3",
   "language": "python",
   "name": "python3"
  },
  "language_info": {
   "codemirror_mode": {
    "name": "ipython",
    "version": 3
   },
   "file_extension": ".py",
   "mimetype": "text/x-python",
   "name": "python",
   "nbconvert_exporter": "python",
   "pygments_lexer": "ipython3",
   "version": "3.9.6"
  }
 },
 "nbformat": 4,
 "nbformat_minor": 2
}
